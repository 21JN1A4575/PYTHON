{
  "cells": [
    {
      "cell_type": "markdown",
      "metadata": {
        "id": "view-in-github",
        "colab_type": "text"
      },
      "source": [
        "<a href=\"https://colab.research.google.com/github/21JN1A4575/PYTHON/blob/main/PYTHON_PROGRAMS.ipynb\" target=\"_parent\"><img src=\"https://colab.research.google.com/assets/colab-badge.svg\" alt=\"Open In Colab\"/></a>"
      ]
    },
    {
      "cell_type": "markdown",
      "metadata": {
        "id": "XC3ETCXqze_1"
      },
      "source": [
        "**MAXIMUM ELEMENT WITH INDEX**"
      ]
    },
    {
      "cell_type": "code",
      "execution_count": null,
      "metadata": {
        "colab": {
          "base_uri": "https://localhost:8080/"
        },
        "id": "f5tsWx-K8egH",
        "outputId": "f2aade0a-fd3e-4a67-fbef-c6ab21faaae7"
      },
      "outputs": [
        {
          "name": "stdout",
          "output_type": "stream",
          "text": [
            "6\n",
            "2 3 4 5 23 4\n",
            "23 4\n"
          ]
        }
      ],
      "source": [
        "n = int(input())\n",
        "arr = list(map(int,input().split()))\n",
        "max = arr[0]\n",
        "for i in range(n):\n",
        "  if arr[i]>max:\n",
        "    max = arr[i]\n",
        "print(max,arr.index(max))"
      ]
    },
    {
      "cell_type": "markdown",
      "metadata": {
        "id": "Ardr2e4W3bI7"
      },
      "source": [
        "**CALCULATE BINARY OPERATIONS**"
      ]
    },
    {
      "cell_type": "code",
      "execution_count": null,
      "metadata": {
        "colab": {
          "base_uri": "https://localhost:8080/"
        },
        "id": "SW0SboZMExl7",
        "outputId": "c52a5744-06ed-43b6-b69d-f0e8efb1acb7"
      },
      "outputs": [
        {
          "name": "stdout",
          "output_type": "stream",
          "text": [
            "1C0C1C1A0B1\n",
            "1\n"
          ]
        }
      ],
      "source": [
        "def calculateBinaryOperations(binary_string):\n",
        "  if not binary_string:\n",
        "    return -1\n",
        "  result = int(binary_string[0])\n",
        "  for i in range(1, len(binary_string),2):\n",
        "    operator = binary_string[i]\n",
        "    next_number = int(binary_string[i + 1])\n",
        "    if operator == 'A':\n",
        "        result = result & next_number\n",
        "    elif operator == 'B':\n",
        "        result = result | next_number\n",
        "    elif operator == 'C':\n",
        "        result = result ^ next_number\n",
        "  return result\n",
        "binary_string = input()\n",
        "print(calculateBinaryOperations(binary_string))"
      ]
    },
    {
      "cell_type": "markdown",
      "metadata": {
        "id": "GE7vIuYq3RRD"
      },
      "source": [
        "**OPERATION CHOICES**"
      ]
    },
    {
      "cell_type": "code",
      "execution_count": null,
      "metadata": {
        "colab": {
          "base_uri": "https://localhost:8080/"
        },
        "id": "3SIt6Mw02Rkn",
        "outputId": "c78ba269-5b21-402c-a51a-705c557d9df9"
      },
      "outputs": [
        {
          "name": "stdout",
          "output_type": "stream",
          "text": [
            "2\n",
            "3\n",
            "2\n",
            "1\n"
          ]
        }
      ],
      "source": [
        "def operationChoices(c,a,b):\n",
        "  if c==1:\n",
        "    return a+b\n",
        "  elif c==2:\n",
        "    return a-b\n",
        "  elif c==3:\n",
        "    return a*b\n",
        "  elif c==4:\n",
        "    return a/b\n",
        "  else:\n",
        "    return 0\n",
        "c = int(input())\n",
        "a = int(input())\n",
        "b = int(input())\n",
        "print(operationChoices(c,a,b))\n",
        "\n",
        "\n"
      ]
    },
    {
      "cell_type": "markdown",
      "metadata": {
        "id": "uUIGWm1U6CK0"
      },
      "source": [
        "**DIFFERENCE OF SUM**"
      ]
    },
    {
      "cell_type": "code",
      "execution_count": null,
      "metadata": {
        "colab": {
          "base_uri": "https://localhost:8080/"
        },
        "id": "0lZsU1aj6G7A",
        "outputId": "0d94ee7c-8d9b-485c-f391-a467a621d3a1"
      },
      "outputs": [
        {
          "name": "stdout",
          "output_type": "stream",
          "text": [
            "30\n",
            "6\n",
            "20\n"
          ]
        }
      ],
      "source": [
        "def differenceOfSum(a,b):\n",
        "  sum_not_divisible = 0\n",
        "  sum_divisible= 0\n",
        "  for i in range(1,a+1):\n",
        "    if i%b == 0:\n",
        "      sum_divisible+=1\n",
        "    else:\n",
        "      sum_not_divisible+=1\n",
        "  difference = sum_not_divisible - sum_divisible\n",
        "  return difference\n",
        "a = int(input())\n",
        "b = int(input())\n",
        "print(differenceOfSum(a,b))"
      ]
    },
    {
      "cell_type": "markdown",
      "metadata": {
        "id": "43axxZ_u8k92"
      },
      "source": [
        "**ANAGRAM STRING**"
      ]
    },
    {
      "cell_type": "code",
      "execution_count": null,
      "metadata": {
        "colab": {
          "base_uri": "https://localhost:8080/"
        },
        "id": "fEXfGJVX9iow",
        "outputId": "2ec1b102-2074-460b-a2a3-bbd754db6518"
      },
      "outputs": [
        {
          "name": "stdout",
          "output_type": "stream",
          "text": [
            "sai\n",
            "ias\n",
            "yes\n",
            "None\n"
          ]
        }
      ],
      "source": [
        "def anagram(s1,s2):\n",
        "  if sorted(s1) == sorted(s2):\n",
        "    print(\"yes\")\n",
        "  else:\n",
        "    print(\"no\")\n",
        "s1 = input()\n",
        "s2 = input()\n",
        "print(anagram(s1,s2))"
      ]
    },
    {
      "cell_type": "markdown",
      "metadata": {
        "id": "t9P0koOmQDAI"
      },
      "source": [
        "**REPLACE CHARACTER**"
      ]
    },
    {
      "cell_type": "code",
      "execution_count": null,
      "metadata": {
        "colab": {
          "base_uri": "https://localhost:8080/"
        },
        "id": "SPWyqzoo-Rq1",
        "outputId": "f192069d-077a-4b06-fc58-3eb812986389"
      },
      "outputs": [
        {
          "name": "stdout",
          "output_type": "stream",
          "text": [
            "asdfpjhgeg\n",
            "asdfejhgpg\n"
          ]
        }
      ],
      "source": [
        "def replace_char(s):\n",
        "  temp=\"\"\n",
        "  for i in s:\n",
        "    if i==\"e\":\n",
        "      temp+=\"p\"\n",
        "    elif i==\"p\":\n",
        "      temp+='e'\n",
        "    else:\n",
        "      temp+=i\n",
        "  return temp\n",
        "s=input()\n",
        "print(replace_char(s))"
      ]
    },
    {
      "cell_type": "code",
      "execution_count": null,
      "metadata": {
        "colab": {
          "base_uri": "https://localhost:8080/"
        },
        "id": "QIyq09_oPkpL",
        "outputId": "18375899-7fb0-4229-ac61-65d26c8e32e5"
      },
      "outputs": [
        {
          "name": "stdout",
          "output_type": "stream",
          "text": [
            "fghjkllllllll\n",
            "j\n",
            "l\n",
            "fghlkjjjjjjjj\n"
          ]
        }
      ],
      "source": [
        "def replace_char(s,ch1,ch2):\n",
        "  temp=\" \"\n",
        "  s = s.replace(ch1,temp)\n",
        "  s = s.replace(ch2,ch1)\n",
        "  s = s.replace(temp,ch2)\n",
        "  return s\n",
        "s=input()\n",
        "ch1 = input()\n",
        "ch2 = input()\n",
        "print(replace_char(s,ch1,ch2))"
      ]
    },
    {
      "cell_type": "markdown",
      "metadata": {
        "id": "Ymv4ZGKk_V21"
      },
      "source": [
        "**REVERSE A STRING WORD WISE**"
      ]
    },
    {
      "cell_type": "code",
      "execution_count": null,
      "metadata": {
        "colab": {
          "base_uri": "https://localhost:8080/"
        },
        "id": "JH9kG0DN_gM2",
        "outputId": "572b66d0-1af7-4263-b2ef-86cc68fc25d6"
      },
      "outputs": [
        {
          "name": "stdout",
          "output_type": "stream",
          "text": [
            "asdf hjkl ertyu\n",
            "ertyu hjkl asdf\n"
          ]
        }
      ],
      "source": [
        "str = input()\n",
        "words = str.split()\n",
        "rev_words = words[::-1]\n",
        "print(\" \".join(rev_words))"
      ]
    },
    {
      "cell_type": "markdown",
      "metadata": {
        "id": "UGQSpdKzALUI"
      },
      "source": [
        "**DIFFERENCE COUNT**"
      ]
    },
    {
      "cell_type": "code",
      "execution_count": null,
      "metadata": {
        "colab": {
          "base_uri": "https://localhost:8080/"
        },
        "id": "O5VZvDr1_8g2",
        "outputId": "05eb534d-dcd0-4af9-8734-6843d5806a89"
      },
      "outputs": [
        {
          "name": "stdout",
          "output_type": "stream",
          "text": [
            "12 3 14 56 77 13\n",
            "13\n",
            "2\n",
            "3\n"
          ]
        }
      ],
      "source": [
        "def findCount(arr,num,diff):\n",
        "  count = 0\n",
        "  for i in arr:\n",
        "    if abs(i-num) <= diff:\n",
        "      count+=1\n",
        "  if count>0:\n",
        "    return count\n",
        "  else:\n",
        "    return -1\n",
        "arr=list(map(int,input().split()))\n",
        "num=int(input())\n",
        "diff=int(input())\n",
        "print(findCount(arr,num,diff))"
      ]
    },
    {
      "cell_type": "code",
      "execution_count": null,
      "metadata": {
        "colab": {
          "base_uri": "https://localhost:8080/"
        },
        "id": "TcPwy1RbRSsd",
        "outputId": "3f6f6c2b-1f43-46da-8ebc-c6d5414b5fee"
      },
      "outputs": [
        {
          "name": "stdout",
          "output_type": "stream",
          "text": [
            "7\n",
            "2\n",
            "8\n",
            "2 8 3 5 7 4 1 2\n",
            "4\n"
          ]
        }
      ],
      "source": [
        "def calculate (r, unit, arr, n):\n",
        "    if n == 0:\n",
        "        return -1\n",
        "\n",
        "    totalFoodRequired = r * unit\n",
        "    foodTillNow = 0\n",
        "    house = 0\n",
        "\n",
        "    for house in range (n):\n",
        "        foodTillNow += arr[house]\n",
        "        if foodTillNow>=totalFoodRequired:\n",
        "            break\n",
        "    if totalFoodRequired > foodTillNow:\n",
        "        return 0\n",
        "    return house + 1\n",
        "\n",
        "r = int (input ())\n",
        "unit = int (input ())\n",
        "n = int (input ())\n",
        "\n",
        "arr = list (map (int, input ().split ()))\n",
        "print (calculate (r, unit, arr, n))"
      ]
    },
    {
      "cell_type": "markdown",
      "metadata": {
        "id": "9NQMceWLn1no"
      },
      "source": [
        "**MATRIX EVEN ODD SUM OF ELEMENTS AT A PARTICULAR INDEX**"
      ]
    },
    {
      "cell_type": "code",
      "execution_count": null,
      "metadata": {
        "colab": {
          "base_uri": "https://localhost:8080/"
        },
        "id": "Z27EdvujnWDi",
        "outputId": "26d99b77-99a0-47ad-b61d-c2c90d477722"
      },
      "outputs": [
        {
          "name": "stdout",
          "output_type": "stream",
          "text": [
            "6\n",
            "2 3 4 5 6 7\n",
            "9\n"
          ]
        }
      ],
      "source": [
        "n = int(input())\n",
        "arr = list(map(int,input().split()))\n",
        "even_arr = []\n",
        "odd_arr = []\n",
        "for i in range(n):\n",
        "    if i%2==0:\n",
        "        even_arr.append(arr[i])\n",
        "    else:\n",
        "        odd_arr.append(arr[i])\n",
        "even_arr.sort()\n",
        "odd_arr.sort()\n",
        "sum = even_arr[-2]+odd_arr[-2]\n",
        "print(sum)"
      ]
    },
    {
      "cell_type": "markdown",
      "metadata": {
        "id": "Kzd3TAt-qpVQ"
      },
      "source": [
        "**DIVISIBLE BY 3 AND 5**"
      ]
    },
    {
      "cell_type": "code",
      "execution_count": null,
      "metadata": {
        "colab": {
          "base_uri": "https://localhost:8080/"
        },
        "id": "2vkMdCMirFGz",
        "outputId": "118008c8-98d5-424c-c8b4-92be8899c1ae"
      },
      "outputs": [
        {
          "name": "stdout",
          "output_type": "stream",
          "text": [
            "1\n",
            "50\n",
            "90\n"
          ]
        }
      ],
      "source": [
        "def Calculate(m,n):\n",
        "    sum = 0\n",
        "    for i in range(m,n+1):\n",
        "        if i%3==0 and i%5== 0:\n",
        "            sum += i\n",
        "    return sum\n",
        "m = int(input())\n",
        "n = int(input())\n",
        "print(Calculate(m,n))\n"
      ]
    },
    {
      "cell_type": "markdown",
      "metadata": {
        "id": "_hwqy8_kr6uI"
      },
      "source": [
        "**TO CALCULATE THE N BASE EQUIVALENT OF NUM AND RETURN THE SAME AS A STRING**"
      ]
    },
    {
      "cell_type": "code",
      "execution_count": null,
      "metadata": {
        "colab": {
          "base_uri": "https://localhost:8080/"
        },
        "id": "AVVZ79AnsnG3",
        "outputId": "5cee192a-d7a2-47a3-b2a9-f59e9a2ad965"
      },
      "outputs": [
        {
          "name": "stdout",
          "output_type": "stream",
          "text": [
            "12\n",
            "718\n",
            "4BA\n"
          ]
        }
      ],
      "source": [
        "def DectoNBase(n, num):\n",
        "    notation = \"0123456789ABCDEFGHIJKLMNOPQRSTUVWXYZ\"\n",
        "    result = \"\"\n",
        "    while num > 0:\n",
        "        remainder = num % n\n",
        "        result = notation[remainder] + result\n",
        "        num = num // n\n",
        "    return result\n",
        "n = int(input())\n",
        "num = int(input())\n",
        "print(DectoNBase(n, num))"
      ]
    },
    {
      "cell_type": "markdown",
      "metadata": {
        "id": "7Zp_ViU-Jfae"
      },
      "source": []
    },
    {
      "cell_type": "code",
      "execution_count": null,
      "metadata": {
        "colab": {
          "base_uri": "https://localhost:8080/"
        },
        "id": "NYPbQ-gvOJWH",
        "outputId": "4fb079d4-a2df-4c01-e3e6-5d6d9c417b00"
      },
      "outputs": [
        {
          "name": "stdout",
          "output_type": "stream",
          "text": [
            "5\n",
            "None\n"
          ]
        }
      ],
      "source": [
        "def prime(n):\n",
        "  if n<=1:\n",
        "    return false\n",
        "    for i in range(1,n):\n",
        "      if n%i==0:\n",
        "        return false\n",
        "    return true\n",
        "n = int(input())\n",
        "print(prime(n))\n",
        "\n"
      ]
    },
    {
      "cell_type": "code",
      "execution_count": null,
      "metadata": {
        "colab": {
          "base_uri": "https://localhost:8080/"
        },
        "id": "M817syb9P3fR",
        "outputId": "fa4d5d12-a7c1-49c8-92f0-dd1cc32eb4c7"
      },
      "outputs": [
        {
          "name": "stdout",
          "output_type": "stream",
          "text": [
            "7\n",
            "prime\n"
          ]
        }
      ],
      "source": [
        "n = int(input())\n",
        "for i in range(2,n):\n",
        "  if n%i==0:\n",
        "    print(\"not prime\")\n",
        "    break\n",
        "else:\n",
        "  print(\"prime\")"
      ]
    },
    {
      "cell_type": "code",
      "execution_count": null,
      "metadata": {
        "colab": {
          "base_uri": "https://localhost:8080/"
        },
        "id": "3gLajrOhRDVr",
        "outputId": "f3929c19-d26e-415d-b68a-26ab392b7cda"
      },
      "outputs": [
        {
          "name": "stdout",
          "output_type": "stream",
          "text": [
            "7\n",
            "prime\n"
          ]
        }
      ],
      "source": [
        "n = int(input())\n",
        "count = 0\n",
        "for i in range(1,n):\n",
        "  if n%i==0:\n",
        "    count+=1\n",
        "    if count==2:\n",
        "      print(\"not prime\")\n",
        "      break\n",
        "else:\n",
        "  print(\"prime\")"
      ]
    },
    {
      "cell_type": "markdown",
      "metadata": {
        "id": "Sbj2JMvpj2Ad"
      },
      "source": [
        "SMALLEST PRODUCT"
      ]
    },
    {
      "cell_type": "code",
      "execution_count": null,
      "metadata": {
        "colab": {
          "base_uri": "https://localhost:8080/"
        },
        "id": "_rG4xy38qwXZ",
        "outputId": "e58340f9-35c5-47d2-e0c6-1cd56e0dd68b"
      },
      "outputs": [
        {
          "name": "stdout",
          "output_type": "stream",
          "text": [
            "6\n",
            "7\n",
            "2 6 7 3 5 1 8\n",
            "2\n"
          ]
        }
      ],
      "source": [
        "def ProductSmallestPair(sum,n,arr):\n",
        "    arr = sorted(arr)\n",
        "    if(n==0 or n<2):\n",
        "        return -1\n",
        "    elif(arr[0]+arr[1]<=sum):\n",
        "        return arr[0]*arr[1]\n",
        "    else:\n",
        "        return 0\n",
        "sum = int(input())\n",
        "n = int(input())\n",
        "arr = list(map(int,input().split()))\n",
        "print(ProductSmallestPair(sum,n,arr))"
      ]
    },
    {
      "cell_type": "code",
      "execution_count": null,
      "metadata": {
        "colab": {
          "base_uri": "https://localhost:8080/"
        },
        "id": "-_9-crKvj4gM",
        "outputId": "1851b6fc-0ed4-4365-9c54-ba63ac316ca2"
      },
      "outputs": [
        {
          "name": "stdout",
          "output_type": "stream",
          "text": [
            "-21\n"
          ]
        }
      ],
      "source": [
        "\n",
        "def ps(a,b):\n",
        "    b.sort()\n",
        "    for i in range(len(b)):\n",
        "        if b[i]+b[i+1] < a:\n",
        "            return b[i]*b[i+1]\n",
        "        else:\n",
        "            return a\n",
        "\n",
        "a = 6\n",
        "b = [9,8,3,-7,3,9]\n",
        "print(ps(a,b))"
      ]
    },
    {
      "cell_type": "markdown",
      "metadata": {
        "id": "ljli2jVfl2cz"
      },
      "source": [
        "FIND THE LONGEST PALINDROME SUBSEQUENCE IN A STRING"
      ]
    },
    {
      "cell_type": "code",
      "execution_count": null,
      "metadata": {
        "colab": {
          "base_uri": "https://localhost:8080/"
        },
        "id": "FpONowwCv3XE",
        "outputId": "9be662f8-d617-4cb7-a5f1-648adeba1301"
      },
      "outputs": [
        {
          "name": "stdout",
          "output_type": "stream",
          "text": [
            "4\n"
          ]
        }
      ],
      "source": [
        "def longest_palindrome(s):\n",
        "    n = len(s)\n",
        "    dp = [[0] * n for _ in range(n)]\n",
        "    for i in range(n - 1, -1, -1):\n",
        "        dp[i][i] = 1\n",
        "        for j in range(i + 1, n):\n",
        "            if s[i] == s[j]:\n",
        "                dp[i][j] = dp[i + 1][j - 1] + 2\n",
        "            else:\n",
        "                dp[i][j] = max(dp[i + 1][j], dp[i][j - 1])\n",
        "    return dp[0][n - 1]\n",
        "s = \"bbbab\"\n",
        "print(longest_palindrome(s))"
      ]
    },
    {
      "cell_type": "code",
      "execution_count": null,
      "metadata": {
        "colab": {
          "base_uri": "https://localhost:8080/"
        },
        "id": "ycsdeh4Qkw1A",
        "outputId": "0765dc34-550c-4b4c-9b57-bc144fb149ba"
      },
      "outputs": [
        {
          "name": "stdout",
          "output_type": "stream",
          "text": [
            "sailakshmi\n",
            "5\n"
          ]
        }
      ],
      "source": [
        "\n",
        "def lps(str):\n",
        "    n = len(str)\n",
        "    dp = [[0] * n for _ in range(n)]\n",
        "    for i in range(n):\n",
        "        dp[i][i] = 1\n",
        "    for cl in range(2, n + 1):\n",
        "        for i in range(n - cl + 1):\n",
        "            j = i + cl - 1\n",
        "            if str[i] == str[j] and cl == 2:\n",
        "                dp[i][j] = 2\n",
        "            elif str[i] == str[j]:\n",
        "                dp[i][j] = dp[i + 1][j - 1] + 2\n",
        "            else:\n",
        "                dp[i][j] = max(dp[i + 1][j], dp[i][j - 1])\n",
        "    return dp[0][n - 1]\n",
        "str = input()\n",
        "print(lps(str))"
      ]
    },
    {
      "cell_type": "markdown",
      "metadata": {
        "id": "ejUJddkCrZyk"
      },
      "source": [
        "TO FIND ALL PERMUTATIONS OF A STRING"
      ]
    },
    {
      "cell_type": "code",
      "execution_count": null,
      "metadata": {
        "colab": {
          "base_uri": "https://localhost:8080/"
        },
        "id": "f1hc5csFrYkn",
        "outputId": "7993c1d7-4de2-43f7-dee0-0d7f971ab04c"
      },
      "outputs": [
        {
          "name": "stdout",
          "output_type": "stream",
          "text": [
            "Enter a string: sai lakshmi\n"
          ]
        }
      ],
      "source": [
        "from itertools import permutations\n",
        "\n",
        "s = input(\"Enter a string: \")\n",
        "perms = [''.join(p) for p in permutations(s)]\n",
        "print(perms)"
      ]
    },
    {
      "cell_type": "markdown",
      "metadata": {
        "id": "AOtYSLclu7Dh"
      },
      "source": [
        "MOVE HYPENS TO FRONT"
      ]
    },
    {
      "cell_type": "code",
      "execution_count": null,
      "metadata": {
        "colab": {
          "base_uri": "https://localhost:8080/"
        },
        "id": "kvImZ4s0u57G",
        "outputId": "f68466b2-8c75-4455-a17a-4268a16b3497"
      },
      "outputs": [
        {
          "name": "stdout",
          "output_type": "stream",
          "text": [
            "sai-lakshmi-pachigolla\n",
            "--sailakshmipachigolla\n"
          ]
        }
      ],
      "source": [
        "str = input()\n",
        "count = 0\n",
        "string = \"\"\n",
        "for i in str:\n",
        "    if i == \"-\":\n",
        "        count += 1\n",
        "    else:\n",
        "        string += i\n",
        "print(\"-\"*count+string)"
      ]
    },
    {
      "cell_type": "code",
      "execution_count": null,
      "metadata": {
        "colab": {
          "base_uri": "https://localhost:8080/"
        },
        "id": "BOuvf7KU3jYP",
        "outputId": "20bf0426-3ded-40fa-83a9-8b4ac684afd3"
      },
      "outputs": [
        {
          "name": "stdout",
          "output_type": "stream",
          "text": [
            "3.16 2.24 5.39\n"
          ]
        }
      ],
      "source": [
        "import math\n",
        "\n",
        "x1, y1 = 1, 1\n",
        "x2, y2 = 2, 4\n",
        "x3, y3 = 3, 6\n",
        "\n",
        "first_diff = math.sqrt(math.pow(x2-x1, 2) + math.pow(y2-y1, 2))\n",
        "second_diff = math.sqrt(math.pow(x3-x2, 2) + math.pow(y3-y2, 2))\n",
        "third_diff = math.sqrt(math.pow(x3-x1, 2) + math.pow(y3-y1, 2))\n",
        "\n",
        "print(round(first_diff,2), round(second_diff,2), round(third_diff,2))"
      ]
    },
    {
      "cell_type": "code",
      "execution_count": null,
      "metadata": {
        "id": "mSenwHQl3oMh"
      },
      "outputs": [],
      "source": [
        "import math\n",
        "\n",
        "x1, y1 = 1, 1\n",
        "x2, y2 = 2, 4\n",
        "x3, y3 = 3, 6\n",
        "\n",
        "first_diff = math.sqrt((x2-x1)**2 + (y2-y1)**2)\n",
        "second_diff = math.sqrt((x3-x2)**2 + (y3-y2)**2)\n",
        "third_diff = math.sqrt((x3-x1)**2 + (y3-y1)**2)\n",
        "\n",
        "print(round(first_diff,2), round(second_diff,2), round(third_diff,2))"
      ]
    },
    {
      "cell_type": "markdown",
      "metadata": {
        "id": "GaI7zZCmuMuf"
      },
      "source": [
        "**Autobiographical Number**"
      ]
    },
    {
      "cell_type": "code",
      "execution_count": null,
      "metadata": {
        "colab": {
          "base_uri": "https://localhost:8080/"
        },
        "id": "v5L_6gXWt2je",
        "outputId": "00c26bfa-39a0-4162-d92a-8c1640763c03"
      },
      "outputs": [
        {
          "name": "stdout",
          "output_type": "stream",
          "text": [
            "Enter a number: 10211\n",
            "3\n"
          ]
        }
      ],
      "source": [
        "def FindAutoCount(n):\n",
        "    if n is None:\n",
        "        return 0\n",
        "\n",
        "    length = len(n)\n",
        "    uniqueDigits = [0] * 10\n",
        "    sum_digits = 0\n",
        "    for char in n:\n",
        "        digit = int(char)\n",
        "        sum_digits += digit\n",
        "        uniqueDigits[digit] = 1\n",
        "    if sum_digits != length:\n",
        "        return 0\n",
        "    count = sum(uniqueDigits)\n",
        "\n",
        "    return count\n",
        "n = input(\"Enter a number: \")\n",
        "print(FindAutoCount(n))\n"
      ]
    },
    {
      "cell_type": "markdown",
      "metadata": {
        "id": "oYWtSRAmyUnh"
      },
      "source": [
        "**SUM OF ODD INTEGERS IN AN ARRAY**"
      ]
    },
    {
      "cell_type": "code",
      "execution_count": null,
      "metadata": {
        "colab": {
          "base_uri": "https://localhost:8080/"
        },
        "id": "Q-83DE_tyZyc",
        "outputId": "d6df2be3-b9f4-466c-9936-081bdb63f613"
      },
      "outputs": [
        {
          "name": "stdout",
          "output_type": "stream",
          "text": [
            "1 2 3 4 5 6 7 8 9\n",
            "25\n"
          ]
        }
      ],
      "source": [
        "def sum_of_odd_integers(arr):\n",
        "    sum = 0\n",
        "    for i in arr:\n",
        "        if i%2!=0:\n",
        "            sum+=i\n",
        "    return sum\n",
        "\n",
        "arr = list(map(int,input().split()))\n",
        "print(sum_of_odd_integers(arr))"
      ]
    },
    {
      "cell_type": "markdown",
      "metadata": {
        "id": "6xJLWblr2l8K"
      },
      "source": [
        "**smalest pair in an array**"
      ]
    },
    {
      "cell_type": "code",
      "execution_count": null,
      "metadata": {
        "colab": {
          "base_uri": "https://localhost:8080/"
        },
        "id": "8m74U_9fz_La",
        "outputId": "51f00e55-08de-447d-f4bd-244cdf8fa122"
      },
      "outputs": [
        {
          "name": "stdout",
          "output_type": "stream",
          "text": [
            "9\n",
            "7\n",
            "5 2 4 3 9 7 1\n",
            "2\n"
          ]
        }
      ],
      "source": [
        "def smallest_pair(sum,n,arr):\n",
        "    arr = sorted(arr)\n",
        "    if(n==0 or n<2):\n",
        "        return -1\n",
        "    elif(arr[0]+arr[1]<=sum):\n",
        "        return arr[0]*arr[1]\n",
        "    else:\n",
        "        return 0\n",
        "\n",
        "sum = int(input())\n",
        "n = int(input())\n",
        "arr = list(map(int,input().split()))\n",
        "print(smallest_pair(sum,n,arr))"
      ]
    },
    {
      "cell_type": "code",
      "execution_count": null,
      "metadata": {
        "colab": {
          "base_uri": "https://localhost:8080/"
        },
        "id": "AxaGSzMg13Zz",
        "outputId": "d2b57d7c-0a99-46c9-e1d9-e7a38cff9a3e"
      },
      "outputs": [
        {
          "name": "stdout",
          "output_type": "stream",
          "text": [
            "9\n",
            "7\n",
            "5 2 4 3 9 7 1\n",
            "1\n"
          ]
        }
      ],
      "source": [
        "def smallest_pair(sum,n,arr):\n",
        "    arr = sorted(arr)\n",
        "    count = 0\n",
        "    if(n==0 or n<2):\n",
        "        return -1\n",
        "    elif(arr[0]+arr[1]<=sum):\n",
        "        count+=1\n",
        "        return count\n",
        "    else:\n",
        "        return 0\n",
        "\n",
        "sum = int(input())\n",
        "n = int(input())\n",
        "arr = list(map(int,input().split()))\n",
        "print(smallest_pair(sum,n,arr))"
      ]
    },
    {
      "cell_type": "markdown",
      "metadata": {
        "id": "UbARDun7xA69"
      },
      "source": [
        "**TABLE OF A NUMBER**"
      ]
    },
    {
      "cell_type": "code",
      "execution_count": null,
      "metadata": {
        "colab": {
          "base_uri": "https://localhost:8080/"
        },
        "id": "HYPn9pNNI5jG",
        "outputId": "7f1b1a46-4ffb-40ed-b91b-7806f8e37578"
      },
      "outputs": [
        {
          "name": "stdout",
          "output_type": "stream",
          "text": [
            "3\n",
            "3 6 9 12 15 18 21 24 27 30 \n",
            "165\n"
          ]
        }
      ],
      "source": [
        "n = int(input())\n",
        "sum = 0\n",
        "for i in range(1, 11):\n",
        "    value = n * i\n",
        "    print(value, end=\" \")\n",
        "    sum = sum + value\n",
        "print()\n",
        "print(sum)"
      ]
    },
    {
      "cell_type": "markdown",
      "metadata": {
        "id": "BnLgumOaGdna"
      },
      "source": [
        "**Area of triangle**"
      ]
    },
    {
      "cell_type": "code",
      "execution_count": null,
      "metadata": {
        "colab": {
          "background_save": true,
          "base_uri": "https://localhost:8080/"
        },
        "id": "bcrbYgrBGzlU",
        "outputId": "d4840440-b50c-4cb0-d315-7b58b569f7bd"
      },
      "outputs": [
        {
          "name": "stdout",
          "output_type": "stream",
          "text": [
            "Area is 78.550000\n"
          ]
        }
      ],
      "source": [
        "def findArea(r):\n",
        "    pi = 3.142\n",
        "    return pi * (r*r);\n",
        "print(\"Area is %.6f\" % findArea(5));"
      ]
    },
    {
      "cell_type": "markdown",
      "source": [
        "**maximum exponent**"
      ],
      "metadata": {
        "id": "rD6AwOXAIF5K"
      }
    },
    {
      "cell_type": "code",
      "source": [
        "def countExponents(i):\n",
        "    count = 0\n",
        "    while i%2 == 0 and i != 0:\n",
        "        count+=1\n",
        "        i = i//2\n",
        "    return count\n",
        "def maxExponents(a, b):\n",
        "    maximum, number = 0, a\n",
        "    for i in range(a,b):\n",
        "        temp = countExponents(i)\n",
        "        if temp>maximum:\n",
        "            maximum, number = temp, i\n",
        "    return number\n",
        "a, b = map(int,input().split())\n",
        "print(maxExponents(a, b))"
      ],
      "metadata": {
        "id": "gn6C_7zMNqbb"
      },
      "execution_count": null,
      "outputs": []
    },
    {
      "cell_type": "markdown",
      "source": [
        "**palindrome**"
      ],
      "metadata": {
        "id": "OjoDMx2iL9gN"
      }
    },
    {
      "cell_type": "code",
      "source": [
        "def isPalindrome(s):\n",
        "    return s == s[::-1]\n",
        "s = \"malayalam\"\n",
        "ans = isPalindrome(s)\n",
        "\n",
        "if ans:\n",
        "    print(\"Yes\")\n",
        "else:\n",
        "    print(\"No\")"
      ],
      "metadata": {
        "colab": {
          "base_uri": "https://localhost:8080/"
        },
        "id": "D4er7bG0L-Fq",
        "outputId": "1eb27a88-f467-4b3f-bbdf-7371d286e2f3"
      },
      "execution_count": null,
      "outputs": [
        {
          "output_type": "stream",
          "name": "stdout",
          "text": [
            "Yes\n"
          ]
        }
      ]
    },
    {
      "cell_type": "code",
      "source": [
        "n = int(input())\n",
        "factorial = 1\n",
        "if n<0:\n",
        "  print(\"factorial does not exist for negative numbers\")\n",
        "elif n==0:\n",
        "    print(\"the factorial of 0 is 1\")\n",
        "else:\n",
        "  for i in range(1,n+1):\n",
        "    factorial = factorial*i\n",
        "  print(\"the factorial of\",n,\"is\",factorial)"
      ],
      "metadata": {
        "colab": {
          "base_uri": "https://localhost:8080/"
        },
        "id": "CWHmC_pKI5Rx",
        "outputId": "ff383736-7355-4313-ae49-8e994f58ebae"
      },
      "execution_count": null,
      "outputs": [
        {
          "output_type": "stream",
          "name": "stdout",
          "text": [
            "5\n",
            "the factorial of 5 is 120\n"
          ]
        }
      ]
    },
    {
      "cell_type": "code",
      "source": [
        "def anagram(s1,s2):\n",
        "  if sorted(s1) == sorted(s2):\n",
        "    print(\"yes\")\n",
        "  else:\n",
        "    print(\"no\")\n",
        "s1 = input()\n",
        "s2 = input()\n",
        "print(anagram(s1,s2))"
      ],
      "metadata": {
        "colab": {
          "base_uri": "https://localhost:8080/"
        },
        "id": "wZZsEb0JxAAg",
        "outputId": "d508fb19-b03c-40c6-e6b3-bef85ad3a268"
      },
      "execution_count": 6,
      "outputs": [
        {
          "output_type": "stream",
          "name": "stdout",
          "text": [
            "asdfg\n",
            "gfdsa\n",
            "yes\n",
            "None\n"
          ]
        }
      ]
    }
  ],
  "metadata": {
    "colab": {
      "provenance": [],
      "authorship_tag": "ABX9TyOQhzk6buwvCgFt1UhibYwL",
      "include_colab_link": true
    },
    "kernelspec": {
      "display_name": "Python 3",
      "name": "python3"
    },
    "language_info": {
      "name": "python"
    }
  },
  "nbformat": 4,
  "nbformat_minor": 0
}