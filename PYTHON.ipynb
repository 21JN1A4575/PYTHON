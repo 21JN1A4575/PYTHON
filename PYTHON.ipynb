{
  "cells": [
    {
      "cell_type": "markdown",
      "metadata": {
        "id": "view-in-github",
        "colab_type": "text"
      },
      "source": [
        "<a href=\"https://colab.research.google.com/github/21JN1A4575/PYTHON/blob/main/PYTHON.ipynb\" target=\"_parent\"><img src=\"https://colab.research.google.com/assets/colab-badge.svg\" alt=\"Open In Colab\"/></a>"
      ]
    },
    {
      "cell_type": "code",
      "execution_count": null,
      "metadata": {
        "colab": {
          "base_uri": "https://localhost:8080/"
        },
        "id": "JC-TMmkn8UtW",
        "outputId": "49e9bfc4-ac0c-4d53-cc03-49cfd2e41aec"
      },
      "outputs": [
        {
          "output_type": "stream",
          "name": "stdout",
          "text": [
            "5\n",
            "*\n",
            "**\n",
            "***\n",
            "****\n",
            "*****\n",
            "\n"
          ]
        }
      ],
      "source": [
        "n = int(input())\n",
        "for i in range(1,n+1):\n",
        "  print(\"*\" * i)\n",
        "print()"
      ]
    },
    {
      "cell_type": "code",
      "source": [
        "n = 4\n",
        "i = 1\n",
        "while i<=n:\n",
        "  k = n-i\n",
        "  print(\"\"*k,\"*\"*i,\"\"*k)\n",
        "  i+=1\n"
      ],
      "metadata": {
        "colab": {
          "base_uri": "https://localhost:8080/"
        },
        "id": "iqDrNvye3IFW",
        "outputId": "5ffc664d-5730-455e-b00d-2a0501a86e35"
      },
      "execution_count": null,
      "outputs": [
        {
          "output_type": "stream",
          "name": "stdout",
          "text": [
            " * \n",
            " ** \n",
            " *** \n",
            " **** \n"
          ]
        }
      ]
    },
    {
      "cell_type": "code",
      "source": [
        "n = int(input())\n",
        "for i in range(1,n+1):\n",
        "  for j in range(i):\n",
        "    print(\"*\",end = \" \")\n",
        "  print()"
      ],
      "metadata": {
        "colab": {
          "base_uri": "https://localhost:8080/"
        },
        "id": "4cyMo1s4bLaa",
        "outputId": "1bb038c0-3465-4efd-84ab-a44a506a8d0d"
      },
      "execution_count": null,
      "outputs": [
        {
          "output_type": "stream",
          "name": "stdout",
          "text": [
            "5\n",
            "* \n",
            "* * \n",
            "* * * \n",
            "* * * * \n",
            "* * * * * \n"
          ]
        }
      ]
    },
    {
      "cell_type": "code",
      "source": [
        "n = int(input())\n",
        "for i in range(n+1):\n",
        "  for j in range(i):\n",
        "    print(i,end = \" \")\n",
        "  print()"
      ],
      "metadata": {
        "colab": {
          "base_uri": "https://localhost:8080/"
        },
        "id": "Ulpd8xlvb-7S",
        "outputId": "08ee2d14-1dd8-4f26-98ff-fc7fabae6d1e"
      },
      "execution_count": null,
      "outputs": [
        {
          "output_type": "stream",
          "name": "stdout",
          "text": [
            "5\n",
            "\n",
            "1 \n",
            "2 2 \n",
            "3 3 3 \n",
            "4 4 4 4 \n",
            "5 5 5 5 5 \n"
          ]
        }
      ]
    },
    {
      "cell_type": "code",
      "source": [
        "n = int(input())\n",
        "ascii_value = 65\n",
        "for i in range(n):\n",
        "  for j in range(i+1):\n",
        "    alphabet = chr(ascii_value)\n",
        "    print(alphabet,end = \" \")\n",
        "  ascii_value+=1\n",
        "  print()"
      ],
      "metadata": {
        "colab": {
          "base_uri": "https://localhost:8080/"
        },
        "id": "5YCP0r5QcoI0",
        "outputId": "fd57f4cc-e9fb-4ce7-def2-21c833456528"
      },
      "execution_count": null,
      "outputs": [
        {
          "output_type": "stream",
          "name": "stdout",
          "text": [
            "5\n",
            "A \n",
            "B B \n",
            "C C C \n",
            "D D D D \n",
            "E E E E E \n"
          ]
        }
      ]
    },
    {
      "cell_type": "code",
      "source": [
        "n = int(input())\n",
        "ascii = 65\n",
        "for i in range(n):\n",
        "  for j in range(i+1):\n",
        "    alphabet = chr(ascii)\n",
        "    print(alphabet,end = \" \")\n",
        "    ascii += 1\n",
        "  print()"
      ],
      "metadata": {
        "colab": {
          "base_uri": "https://localhost:8080/"
        },
        "id": "vpzv5jDBihc4",
        "outputId": "a59c45bb-2455-476c-ff5e-0bea2226a44a"
      },
      "execution_count": null,
      "outputs": [
        {
          "output_type": "stream",
          "name": "stdout",
          "text": [
            "5\n",
            "A \n",
            "B C \n",
            "D E F \n",
            "G H I J \n",
            "K L M N O \n"
          ]
        }
      ]
    },
    {
      "cell_type": "code",
      "source": [
        "n = int(input())\n",
        "for i in range(n+1,0,-1):\n",
        "  for j in range(0,i-1):\n",
        "    print(\"*\",end = \" \")\n",
        "  print()"
      ],
      "metadata": {
        "colab": {
          "base_uri": "https://localhost:8080/"
        },
        "id": "Qkz4u2MadkZ-",
        "outputId": "bc2b8abc-e9e8-4a72-a8c8-f05d84f21a09"
      },
      "execution_count": null,
      "outputs": [
        {
          "output_type": "stream",
          "name": "stdout",
          "text": [
            "5\n",
            "* * * * * \n",
            "* * * * \n",
            "* * * \n",
            "* * \n",
            "* \n",
            "\n"
          ]
        }
      ]
    },
    {
      "cell_type": "code",
      "source": [
        "n = int(input())\n",
        "for i in range(n+1,0,-1):\n",
        "  for j in range(0,i-1):\n",
        "    print(i,end = \" \")\n",
        "  print()"
      ],
      "metadata": {
        "colab": {
          "base_uri": "https://localhost:8080/"
        },
        "id": "v2JvdUOmyYWs",
        "outputId": "942b3a07-b17a-41e7-a6ed-3d9e66dbc5b4"
      },
      "execution_count": null,
      "outputs": [
        {
          "output_type": "stream",
          "name": "stdout",
          "text": [
            "5\n",
            "6 6 6 6 6 \n",
            "5 5 5 5 \n",
            "4 4 4 \n",
            "3 3 \n",
            "2 \n",
            "\n"
          ]
        }
      ]
    },
    {
      "cell_type": "code",
      "source": [
        "n = 5\n",
        "alph = 65\n",
        "for i in range(0, n):\n",
        "    print(\" \" * (n-i), end=\" \")\n",
        "    for j in range(0, i+1):\n",
        "        print(chr(alph), end=\" \")\n",
        "        alph += 1\n",
        "    alph = 65\n",
        "    print()"
      ],
      "metadata": {
        "colab": {
          "base_uri": "https://localhost:8080/"
        },
        "id": "Xg05mR59ycM3",
        "outputId": "d5a4a094-a8a7-42b9-af34-f0578e89129b"
      },
      "execution_count": null,
      "outputs": [
        {
          "output_type": "stream",
          "name": "stdout",
          "text": [
            "      A \n",
            "     A B \n",
            "    A B C \n",
            "   A B C D \n",
            "  A B C D E \n"
          ]
        }
      ]
    },
    {
      "cell_type": "code",
      "source": [
        "n = int(input())\n",
        "for i in range (n):\n",
        "  for j in range(n-i-1):\n",
        "    print(\" \",end = \" \")\n",
        "  for j in range(2*i+1):\n",
        "    print(\"*\",end = \" \")\n",
        "  print()"
      ],
      "metadata": {
        "colab": {
          "base_uri": "https://localhost:8080/"
        },
        "id": "rq0nXZoZyjYh",
        "outputId": "6e90aeb5-608d-40d7-b325-3ba2453741ba"
      },
      "execution_count": null,
      "outputs": [
        {
          "output_type": "stream",
          "name": "stdout",
          "text": [
            "5\n",
            "        * \n",
            "      * * * \n",
            "    * * * * * \n",
            "  * * * * * * * \n",
            "* * * * * * * * * \n"
          ]
        }
      ]
    },
    {
      "cell_type": "markdown",
      "source": [
        "**characters present at even index number**"
      ],
      "metadata": {
        "id": "u6UzU1p86rW1"
      }
    },
    {
      "cell_type": "code",
      "source": [
        "word=input()\n",
        "size=len(word)\n",
        "for i in range(0,size-1,2):\n",
        "  print(word[i])"
      ],
      "metadata": {
        "colab": {
          "base_uri": "https://localhost:8080/"
        },
        "id": "zJug8IOV6c9K",
        "outputId": "3b069b66-ad28-4313-9f6d-943ee1b7dde0"
      },
      "execution_count": null,
      "outputs": [
        {
          "output_type": "stream",
          "name": "stdout",
          "text": [
            "zxcvbnm,\n",
            "z\n",
            "c\n",
            "b\n",
            "m\n"
          ]
        }
      ]
    },
    {
      "cell_type": "code",
      "source": [
        "word = input()\n",
        "x = list(word)\n",
        "for i in x[0::2]:\n",
        "    print(i)"
      ],
      "metadata": {
        "colab": {
          "base_uri": "https://localhost:8080/"
        },
        "id": "ZaB2yZ3Q8plk",
        "outputId": "a3cc5200-b716-4e95-aa8f-f390a84dc959"
      },
      "execution_count": null,
      "outputs": [
        {
          "output_type": "stream",
          "name": "stdout",
          "text": [
            "sdfghjhgvcx\n",
            "s\n",
            "f\n",
            "h\n",
            "h\n",
            "v\n",
            "x\n"
          ]
        }
      ]
    },
    {
      "cell_type": "markdown",
      "source": [
        "**Remove character from specific index**"
      ],
      "metadata": {
        "id": "oNybkGi0CMBl"
      }
    },
    {
      "cell_type": "code",
      "source": [
        "def removeChar(s,n):\n",
        "  x=s[n:]\n",
        "  return x\n",
        "print(removeChar(\"sailakshmi\",4))\n",
        "print(removeChar(\"sailakshmi\",3))\n"
      ],
      "metadata": {
        "colab": {
          "base_uri": "https://localhost:8080/"
        },
        "id": "_fIbrrN0881O",
        "outputId": "c69ab38b-e535-4c39-9272-6154ffffa236"
      },
      "execution_count": null,
      "outputs": [
        {
          "output_type": "stream",
          "name": "stdout",
          "text": [
            "akshmi\n",
            "lakshmi\n"
          ]
        }
      ]
    },
    {
      "cell_type": "markdown",
      "source": [
        "**cheak first and last number same**"
      ],
      "metadata": {
        "id": "T5BqmeUJCaJc"
      }
    },
    {
      "cell_type": "code",
      "source": [
        "def first_last(arr):\n",
        "  first_no=arr[0]\n",
        "  last_no=arr[-1]\n",
        "  if first_no==last_no:\n",
        "    return True\n",
        "  else:\n",
        "    return False\n",
        "arr=[11,22,33,44,55,11]\n",
        "print(first_last(arr))"
      ],
      "metadata": {
        "colab": {
          "base_uri": "https://localhost:8080/"
        },
        "id": "QlqAWMC7CeFS",
        "outputId": "a3d358d0-f7ea-4fdc-d3fd-7e0206f54c03"
      },
      "execution_count": null,
      "outputs": [
        {
          "output_type": "stream",
          "name": "stdout",
          "text": [
            "True\n"
          ]
        }
      ]
    },
    {
      "cell_type": "markdown",
      "source": [
        "**number of occurrences of a substring in a string**"
      ],
      "metadata": {
        "id": "_qx_T9s7DUHQ"
      }
    },
    {
      "cell_type": "code",
      "source": [
        "a=\"sailakshmi ai\"\n",
        "print(a.count(\"ai\"))"
      ],
      "metadata": {
        "colab": {
          "base_uri": "https://localhost:8080/"
        },
        "id": "i0lYOdGvDWD7",
        "outputId": "d128df9d-98f7-4095-d51d-57d584f36ff9"
      },
      "execution_count": null,
      "outputs": [
        {
          "output_type": "stream",
          "name": "stdout",
          "text": [
            "2\n"
          ]
        }
      ]
    },
    {
      "cell_type": "markdown",
      "source": [
        "**Merge two lists**"
      ],
      "metadata": {
        "id": "asOfwuamMnpn"
      }
    },
    {
      "cell_type": "code",
      "source": [
        "def merge_list(list1,list2):\n",
        "  result=[]\n",
        "  for n in list1:\n",
        "    if n%2!=0:\n",
        "      result.append(n)\n",
        "  for n in list2:\n",
        "    if n%2==0:\n",
        "      result.append(n)\n",
        "  return result\n",
        "list1=[11,21,22,33,12]\n",
        "list2=[33,66,55,76]\n",
        "print(merge_list(list1,list2))\n",
        "\n"
      ],
      "metadata": {
        "colab": {
          "base_uri": "https://localhost:8080/"
        },
        "id": "mSAO25mFDdtL",
        "outputId": "ce992237-175c-4323-c757-4a0bee531d08"
      },
      "execution_count": null,
      "outputs": [
        {
          "output_type": "stream",
          "name": "stdout",
          "text": [
            "[11, 21, 33, 66, 76]\n"
          ]
        }
      ]
    },
    {
      "cell_type": "markdown",
      "source": [
        " **Get each digit from a number in the reverse order**"
      ],
      "metadata": {
        "id": "FfD4zALxPWh0"
      }
    },
    {
      "cell_type": "code",
      "source": [
        "number = 7536\n",
        "print(\"Given number\", number)\n",
        "while number > 0:\n",
        "    digit = number % 10\n",
        "    number = number // 10\n",
        "    print(digit, end=\" \")"
      ],
      "metadata": {
        "colab": {
          "base_uri": "https://localhost:8080/"
        },
        "id": "iUdRPPHnOHk4",
        "outputId": "e152f8b4-a54b-4537-a099-66cc57b85d74"
      },
      "execution_count": null,
      "outputs": [
        {
          "output_type": "stream",
          "name": "stdout",
          "text": [
            "Given number 7536\n",
            "6 3 5 7 "
          ]
        }
      ]
    },
    {
      "cell_type": "markdown",
      "source": [
        "TO PRINT THE FIRST AND LAST TWO CHARACTERS"
      ],
      "metadata": {
        "id": "WKoJndUy8iCG"
      }
    },
    {
      "cell_type": "code",
      "source": [
        "def both_ends(str):\n",
        "  if len(str)<2:\n",
        "    return \" \"\n",
        "  return str[0:2] + str[-2:]\n",
        "print(both_ends(\"sailakshmi\"))\n",
        "print(both_ends(\"sa\"))\n",
        "print(both_ends(\"s\"))\n"
      ],
      "metadata": {
        "colab": {
          "base_uri": "https://localhost:8080/"
        },
        "id": "GvAK8ltl8m39",
        "outputId": "96f3e232-8e0a-44bd-b309-669cc2ec694f"
      },
      "execution_count": null,
      "outputs": [
        {
          "output_type": "stream",
          "name": "stdout",
          "text": [
            "sami\n",
            "sasa\n",
            " \n"
          ]
        }
      ]
    },
    {
      "cell_type": "markdown",
      "source": [
        "replace character"
      ],
      "metadata": {
        "id": "fbD6g3aP97d7"
      }
    },
    {
      "cell_type": "code",
      "source": [
        "def change_char(str):\n",
        "  char=str[0]\n",
        "  str=str.replace(char,'$')\n",
        "  str=char+str[1:]\n",
        "  return str\n",
        "print(change_char('restart'))"
      ],
      "metadata": {
        "colab": {
          "base_uri": "https://localhost:8080/"
        },
        "id": "ngeODoLj-i3-",
        "outputId": "98e2095e-6b13-41e9-fe6f-9fc40dd184cf"
      },
      "execution_count": null,
      "outputs": [
        {
          "output_type": "stream",
          "name": "stdout",
          "text": [
            "resta$t\n"
          ]
        }
      ]
    },
    {
      "cell_type": "markdown",
      "source": [],
      "metadata": {
        "id": "l-6O_onZ_ZgA"
      }
    },
    {
      "cell_type": "code",
      "source": [
        "def add(str):\n",
        "  a=len(str)\n",
        "  if a<3:\n",
        "    return str\n",
        "  elif str[-3:]=='ing':\n",
        "    str+='ly'\n",
        "  else:\n",
        "    str+='ing'\n",
        "  return str\n",
        "print(add('ab'))\n",
        "print(add('abc'))\n",
        "print(add('eating'))"
      ],
      "metadata": {
        "colab": {
          "base_uri": "https://localhost:8080/"
        },
        "id": "R1lLqz9CA6qq",
        "outputId": "be3af3b2-ab86-4a5f-da50-5ca3e32e7d75"
      },
      "execution_count": null,
      "outputs": [
        {
          "output_type": "stream",
          "name": "stdout",
          "text": [
            "ab\n",
            "abcing\n",
            "eatingly\n"
          ]
        }
      ]
    },
    {
      "cell_type": "code",
      "source": [
        "def remove_char(str,n):\n",
        "  first=str[:n]\n",
        "  second=str[n+1:1]\n",
        "  return first+second\n",
        "print(remove_char('sailakshmi',0))\n",
        "print(remove_char('sailakshmi',3))\n",
        "print(remove_char('sailakshmi',5))"
      ],
      "metadata": {
        "colab": {
          "base_uri": "https://localhost:8080/"
        },
        "id": "I1yOaAFuE1qO",
        "outputId": "493d8eac-212b-44ea-984a-168a2b8a56c2"
      },
      "execution_count": null,
      "outputs": [
        {
          "output_type": "stream",
          "name": "stdout",
          "text": [
            "\n",
            "sai\n",
            "saila\n"
          ]
        }
      ]
    },
    {
      "cell_type": "code",
      "source": [
        "def change_string(str):\n",
        "  return str[-1:]+str[1:-1]+str[:1]\n",
        "print(change_string('abcd'))"
      ],
      "metadata": {
        "colab": {
          "base_uri": "https://localhost:8080/"
        },
        "id": "BIyskdCBHR8q",
        "outputId": "f1487815-36b2-4143-87da-56d5448a343d"
      },
      "execution_count": null,
      "outputs": [
        {
          "output_type": "stream",
          "name": "stdout",
          "text": [
            "dbca\n"
          ]
        }
      ]
    },
    {
      "cell_type": "code",
      "source": [
        "def odd_values(str):\n",
        "  result=\" \"\n",
        "  for i in range(len(str)):\n",
        "\n",
        "    if i%2==0:\n",
        "      result=result+str[i]\n",
        "  return result\n",
        "print(odd_values(\"sailakshmi\"))"
      ],
      "metadata": {
        "colab": {
          "base_uri": "https://localhost:8080/"
        },
        "id": "UYeH9AnK_bmk",
        "outputId": "a3f4bef1-400a-4a60-8207-54390b235dfd"
      },
      "execution_count": null,
      "outputs": [
        {
          "output_type": "stream",
          "name": "stdout",
          "text": [
            " siasm\n"
          ]
        }
      ]
    },
    {
      "cell_type": "code",
      "source": [
        "items = input(\"Input comma-separated sequence of words\")\n",
        "words = [word for word in items.split(\",\")]\n",
        "print(\",\".join(sorted(list(set(words)))))"
      ],
      "metadata": {
        "colab": {
          "base_uri": "https://localhost:8080/"
        },
        "id": "sjPOosRjChyP",
        "outputId": "ff66193a-95d7-4664-a3c7-76a472224164"
      },
      "execution_count": null,
      "outputs": [
        {
          "output_type": "stream",
          "name": "stdout",
          "text": [
            "Input comma-separated sequence of wordssai lakshmi pachi golla\n",
            "sai lakshmi pachi golla\n"
          ]
        }
      ]
    },
    {
      "cell_type": "code",
      "source": [
        "def last_two(str):\n",
        "  sub_str=str[-2:]\n",
        "  return sub_str*4\n",
        "print(last_two(\"asdfghjkl\"))"
      ],
      "metadata": {
        "colab": {
          "base_uri": "https://localhost:8080/"
        },
        "id": "3U_CTQ7YeKEq",
        "outputId": "b8d2d4c9-f3ba-443f-ac17-fcbe13b8f81d"
      },
      "execution_count": null,
      "outputs": [
        {
          "output_type": "stream",
          "name": "stdout",
          "text": [
            "klklklkl\n"
          ]
        }
      ]
    },
    {
      "cell_type": "code",
      "source": [
        "def three_char(str):\n",
        "  sub_str=str[0:3]\n",
        "  if len(str)<3:\n",
        "    return str\n",
        "  else:\n",
        "    return sub_str\n",
        "print(three_char('abcdef'))"
      ],
      "metadata": {
        "colab": {
          "base_uri": "https://localhost:8080/"
        },
        "id": "cIdixgXbiTo6",
        "outputId": "0ce66a0f-4ba7-4986-8fb2-2f03d39aa636"
      },
      "execution_count": null,
      "outputs": [
        {
          "output_type": "stream",
          "name": "stdout",
          "text": [
            "abc\n"
          ]
        }
      ]
    },
    {
      "cell_type": "code",
      "source": [],
      "metadata": {
        "id": "OdDbgF10kvOt"
      },
      "execution_count": null,
      "outputs": []
    }
  ],
  "metadata": {
    "colab": {
      "provenance": [],
      "authorship_tag": "ABX9TyMNm4fAYjcSeV2B7N+hrP1b",
      "include_colab_link": true
    },
    "kernelspec": {
      "display_name": "Python 3",
      "name": "python3"
    },
    "language_info": {
      "name": "python"
    }
  },
  "nbformat": 4,
  "nbformat_minor": 0
}